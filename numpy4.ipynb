{
 "cells": [
  {
   "cell_type": "code",
   "execution_count": 1,
   "id": "ae7d31f8-b348-46c5-bcb4-10cadafb942a",
   "metadata": {},
   "outputs": [],
   "source": [
    "import numpy as np"
   ]
  },
  {
   "cell_type": "code",
   "execution_count": 2,
   "id": "e0f9907e-dda8-4bcb-a526-6c1664a4d44f",
   "metadata": {},
   "outputs": [],
   "source": [
    "a=np.arange(6)\n"
   ]
  },
  {
   "cell_type": "code",
   "execution_count": 3,
   "id": "32d8309c-23e3-4096-93fa-7c4baccda640",
   "metadata": {},
   "outputs": [
    {
     "data": {
      "text/plain": [
       "array([0, 1, 2, 3, 4, 5])"
      ]
     },
     "execution_count": 3,
     "metadata": {},
     "output_type": "execute_result"
    }
   ],
   "source": [
    "a"
   ]
  },
  {
   "cell_type": "code",
   "execution_count": 4,
   "id": "a07092d6-e433-49d0-9664-699ac285ce4d",
   "metadata": {},
   "outputs": [],
   "source": [
    "b=np.array([1,2,3,4,5,6,33,44,5,3,4,2,2,4,5,2,3,5])\n",
    "c=b.reshape(6,3)"
   ]
  },
  {
   "cell_type": "code",
   "execution_count": 5,
   "id": "50740613-75f6-41b2-a155-392f068b6ccb",
   "metadata": {},
   "outputs": [
    {
     "data": {
      "text/plain": [
       "array([[ 1,  2,  3],\n",
       "       [ 4,  5,  6],\n",
       "       [33, 44,  5],\n",
       "       [ 3,  4,  2],\n",
       "       [ 2,  4,  5],\n",
       "       [ 2,  3,  5]])"
      ]
     },
     "execution_count": 5,
     "metadata": {},
     "output_type": "execute_result"
    }
   ],
   "source": [
    "c"
   ]
  },
  {
   "cell_type": "code",
   "execution_count": 6,
   "id": "a44b0b07-10e2-48bb-befd-de8b18152ad7",
   "metadata": {},
   "outputs": [
    {
     "data": {
      "text/plain": [
       "array([ 0,  1, 15, 12, 11,  2, 16,  9,  3, 13, 10, 14,  8,  4, 17,  5,  6,\n",
       "        7], dtype=int64)"
      ]
     },
     "execution_count": 6,
     "metadata": {},
     "output_type": "execute_result"
    }
   ],
   "source": [
    "np.argsort(b)"
   ]
  },
  {
   "cell_type": "code",
   "execution_count": 7,
   "id": "ae2d4868-56f2-46d4-a8f5-4446c05f9f92",
   "metadata": {},
   "outputs": [
    {
     "data": {
      "text/plain": [
       "0"
      ]
     },
     "execution_count": 7,
     "metadata": {},
     "output_type": "execute_result"
    }
   ],
   "source": [
    "np.argmin(b)\n"
   ]
  },
  {
   "cell_type": "code",
   "execution_count": 8,
   "id": "8eddfe94-113c-4d39-bb45-ec48fe712e75",
   "metadata": {},
   "outputs": [
    {
     "data": {
      "text/plain": [
       "7"
      ]
     },
     "execution_count": 8,
     "metadata": {},
     "output_type": "execute_result"
    }
   ],
   "source": [
    "np.argmax(b)"
   ]
  },
  {
   "cell_type": "code",
   "execution_count": 9,
   "id": "3036aa44-370c-4c60-880f-5c35dbea99ac",
   "metadata": {},
   "outputs": [
    {
     "data": {
      "text/plain": [
       "array([[0, 1, 2],\n",
       "       [0, 1, 2],\n",
       "       [2, 0, 1],\n",
       "       [2, 0, 1],\n",
       "       [0, 1, 2],\n",
       "       [0, 1, 2]], dtype=int64)"
      ]
     },
     "execution_count": 9,
     "metadata": {},
     "output_type": "execute_result"
    }
   ],
   "source": [
    "np.argsort(c)"
   ]
  },
  {
   "cell_type": "code",
   "execution_count": 10,
   "id": "d9abbffb-fec0-40b0-9c52-76bc2bbee97e",
   "metadata": {},
   "outputs": [
    {
     "data": {
      "text/plain": [
       "array([[0, 0, 3],\n",
       "       [4, 5, 0],\n",
       "       [5, 3, 2],\n",
       "       [3, 4, 4],\n",
       "       [1, 1, 5],\n",
       "       [2, 2, 1]], dtype=int64)"
      ]
     },
     "execution_count": 10,
     "metadata": {},
     "output_type": "execute_result"
    }
   ],
   "source": [
    "np.argsort(c,axis=0)"
   ]
  },
  {
   "cell_type": "code",
   "execution_count": 11,
   "id": "de2ec384-60a5-45bd-9c8a-067c5ae3e530",
   "metadata": {},
   "outputs": [
    {
     "data": {
      "text/plain": [
       "'Hello world'"
      ]
     },
     "execution_count": 11,
     "metadata": {},
     "output_type": "execute_result"
    }
   ],
   "source": [
    "\"Hello world\" "
   ]
  },
  {
   "cell_type": "code",
   "execution_count": null,
   "id": "f7bce9af-1f8d-4417-ba64-6c7e7f4141cb",
   "metadata": {},
   "outputs": [],
   "source": []
  }
 ],
 "metadata": {
  "kernelspec": {
   "display_name": "Python 3 (ipykernel)",
   "language": "python",
   "name": "python3"
  },
  "language_info": {
   "codemirror_mode": {
    "name": "ipython",
    "version": 3
   },
   "file_extension": ".py",
   "mimetype": "text/x-python",
   "name": "python",
   "nbconvert_exporter": "python",
   "pygments_lexer": "ipython3",
   "version": "3.11.3"
  }
 },
 "nbformat": 4,
 "nbformat_minor": 5
}
