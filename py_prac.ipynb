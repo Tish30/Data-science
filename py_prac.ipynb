{
 "cells": [
  {
   "cell_type": "code",
   "execution_count": 2,
   "id": "f9f2fe3e",
   "metadata": {},
   "outputs": [
    {
     "name": "stdout",
     "output_type": "stream",
     "text": [
      "Enter your number: 407\n",
      "The given number 407 is armstrong number\n"
     ]
    }
   ],
   "source": [
    "n = int(input(\"Enter your number: \"))\n",
    "s = n  \n",
    "b = len(str(n))\n",
    "sum1 = 0\n",
    "while n != 0:\n",
    "    r = n % 10\n",
    "    sum1 = sum1+(r**b)\n",
    "    n = n//10\n",
    "if s == sum1:\n",
    "    print(\"The given number\", s, \"is armstrong number\")\n",
    "else:\n",
    "    print(\"The given number\", s, \"is not armstrong number\")"
   ]
  },
  {
   "cell_type": "code",
   "execution_count": null,
   "id": "dcd5de95",
   "metadata": {},
   "outputs": [],
   "source": []
  }
 ],
 "metadata": {
  "kernelspec": {
   "display_name": "Python 3 (ipykernel)",
   "language": "python",
   "name": "python3"
  },
  "language_info": {
   "codemirror_mode": {
    "name": "ipython",
    "version": 3
   },
   "file_extension": ".py",
   "mimetype": "text/x-python",
   "name": "python",
   "nbconvert_exporter": "python",
   "pygments_lexer": "ipython3",
   "version": "3.10.5"
  }
 },
 "nbformat": 4,
 "nbformat_minor": 5
}
