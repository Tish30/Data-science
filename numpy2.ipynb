{
 "cells": [
  {
   "cell_type": "markdown",
   "id": "5c6face2-99c3-4a95-a0cf-e816abc29989",
   "metadata": {},
   "source": [
    "# Basic functions"
   ]
  },
  {
   "cell_type": "code",
   "execution_count": 1,
   "id": "e0e49284-93fb-4769-98c6-c8367681950b",
   "metadata": {},
   "outputs": [
    {
     "name": "stdout",
     "output_type": "stream",
     "text": [
      "[[3 2 5 7 8]\n",
      " [2 3 4 5 3]]\n"
     ]
    }
   ],
   "source": [
    "import numpy as np\n",
    "arr1=np.array([[3,2,5,7,8],[2,3,4,5,3]])\n",
    "print(arr1)"
   ]
  },
  {
   "cell_type": "code",
   "execution_count": 2,
   "id": "6691a0ae-4907-4816-bce7-862ada3f9965",
   "metadata": {},
   "outputs": [
    {
     "data": {
      "text/plain": [
       "(2, 5)"
      ]
     },
     "execution_count": 2,
     "metadata": {},
     "output_type": "execute_result"
    }
   ],
   "source": [
    "arr1.shape"
   ]
  },
  {
   "cell_type": "code",
   "execution_count": 3,
   "id": "ad882892-89ff-4049-8585-27d7d6b5375c",
   "metadata": {},
   "outputs": [
    {
     "data": {
      "text/plain": [
       "dtype('int32')"
      ]
     },
     "execution_count": 3,
     "metadata": {},
     "output_type": "execute_result"
    }
   ],
   "source": [
    "arr1.dtype"
   ]
  },
  {
   "cell_type": "code",
   "execution_count": 4,
   "id": "ccfb55b9-5070-4de5-829a-92f90a900728",
   "metadata": {},
   "outputs": [
    {
     "data": {
      "text/plain": [
       "array([[0., 0., 0., 0., 0., 0.],\n",
       "       [0., 0., 0., 0., 0., 0.],\n",
       "       [0., 0., 0., 0., 0., 0.],\n",
       "       [0., 0., 0., 0., 0., 0.]])"
      ]
     },
     "execution_count": 4,
     "metadata": {},
     "output_type": "execute_result"
    }
   ],
   "source": [
    "np.zeros((4,6))"
   ]
  },
  {
   "cell_type": "code",
   "execution_count": 5,
   "id": "c71d8e23-495c-499c-b881-7899f13135dc",
   "metadata": {},
   "outputs": [
    {
     "data": {
      "text/plain": [
       "dtype('float64')"
      ]
     },
     "execution_count": 5,
     "metadata": {},
     "output_type": "execute_result"
    }
   ],
   "source": [
    "np.ones(6).dtype"
   ]
  },
  {
   "cell_type": "code",
   "execution_count": 6,
   "id": "8bfef0e5-3290-45ad-8f6b-a4791580956f",
   "metadata": {},
   "outputs": [
    {
     "data": {
      "text/plain": [
       "array([[0., 0., 0., 0., 0., 0.],\n",
       "       [0., 0., 0., 0., 0., 0.],\n",
       "       [0., 0., 0., 0., 0., 0.],\n",
       "       [0., 0., 0., 0., 0., 0.]])"
      ]
     },
     "execution_count": 6,
     "metadata": {},
     "output_type": "execute_result"
    }
   ],
   "source": [
    "np.empty((4,6))"
   ]
  },
  {
   "cell_type": "code",
   "execution_count": 7,
   "id": "0a3490d7-6da2-41a1-abc4-30b224934a0f",
   "metadata": {},
   "outputs": [
    {
     "data": {
      "text/plain": [
       "array([[3, 2, 5, 7, 8],\n",
       "       [2, 3, 4, 5, 3]])"
      ]
     },
     "execution_count": 7,
     "metadata": {},
     "output_type": "execute_result"
    }
   ],
   "source": [
    "arr1"
   ]
  },
  {
   "cell_type": "code",
   "execution_count": 8,
   "id": "d5c327d4-495c-4164-9147-5673baa90e47",
   "metadata": {},
   "outputs": [
    {
     "data": {
      "text/plain": [
       "array([[ 9,  4, 25, 49, 64],\n",
       "       [ 4,  9, 16, 25,  9]])"
      ]
     },
     "execution_count": 8,
     "metadata": {},
     "output_type": "execute_result"
    }
   ],
   "source": [
    "arr1*arr1"
   ]
  },
  {
   "cell_type": "code",
   "execution_count": 9,
   "id": "ea1e025e-8a76-45be-9631-7f53f9bdc414",
   "metadata": {},
   "outputs": [
    {
     "data": {
      "text/plain": [
       "array([[0, 0, 0, 0, 0],\n",
       "       [0, 0, 0, 0, 0]])"
      ]
     },
     "execution_count": 9,
     "metadata": {},
     "output_type": "execute_result"
    }
   ],
   "source": [
    "arr1-arr1"
   ]
  },
  {
   "cell_type": "code",
   "execution_count": 10,
   "id": "c9e0ac25-64b0-4a9f-a8e9-bc7618c286b0",
   "metadata": {},
   "outputs": [
    {
     "data": {
      "text/plain": [
       "array([[ 6,  4, 10, 14, 16],\n",
       "       [ 4,  6,  8, 10,  6]])"
      ]
     },
     "execution_count": 10,
     "metadata": {},
     "output_type": "execute_result"
    }
   ],
   "source": [
    "arr1+arr1\n"
   ]
  },
  {
   "cell_type": "code",
   "execution_count": 11,
   "id": "647b7a9e-4ebf-4a42-b1e8-7278ab903d79",
   "metadata": {},
   "outputs": [
    {
     "data": {
      "text/plain": [
       "array([[      27,        4,     3125,   823543, 16777216],\n",
       "       [       4,       27,      256,     3125,       27]])"
      ]
     },
     "execution_count": 11,
     "metadata": {},
     "output_type": "execute_result"
    }
   ],
   "source": [
    "arr1**arr1"
   ]
  },
  {
   "cell_type": "code",
   "execution_count": 12,
   "id": "2c873b6d-c488-4423-ba39-8778702b8f7c",
   "metadata": {},
   "outputs": [
    {
     "data": {
      "text/plain": [
       "array([[0.33333333, 0.5       , 0.2       , 0.14285714, 0.125     ],\n",
       "       [0.5       , 0.33333333, 0.25      , 0.2       , 0.33333333]])"
      ]
     },
     "execution_count": 12,
     "metadata": {},
     "output_type": "execute_result"
    }
   ],
   "source": [
    "1/arr1"
   ]
  },
  {
   "cell_type": "markdown",
   "id": "e93b9859-25f5-40ca-bcfc-4985ea40365b",
   "metadata": {},
   "source": [
    "# Slicing"
   ]
  },
  {
   "cell_type": "code",
   "execution_count": 13,
   "id": "e1d217cc-90ba-490a-834a-18f867b47305",
   "metadata": {},
   "outputs": [],
   "source": [
    "arr2=np.array([2,3,4,5,6,7])"
   ]
  },
  {
   "cell_type": "code",
   "execution_count": 14,
   "id": "f84cae41-6f67-46f1-98fd-dc2a9984ed09",
   "metadata": {},
   "outputs": [],
   "source": [
    "arr=arr2[4:6]"
   ]
  },
  {
   "cell_type": "code",
   "execution_count": 15,
   "id": "c1b79d61-e9f9-48ba-b9fa-e72ecdf066d9",
   "metadata": {},
   "outputs": [],
   "source": [
    "arr3=arr2[4:6].copy()"
   ]
  },
  {
   "cell_type": "code",
   "execution_count": 16,
   "id": "34e8de01-75fd-4b30-9340-75168167e304",
   "metadata": {},
   "outputs": [
    {
     "data": {
      "text/plain": [
       "array([6, 7])"
      ]
     },
     "execution_count": 16,
     "metadata": {},
     "output_type": "execute_result"
    }
   ],
   "source": [
    "arr"
   ]
  },
  {
   "cell_type": "code",
   "execution_count": 18,
   "id": "d3639495-2299-4ba8-9625-47a731ab1529",
   "metadata": {},
   "outputs": [],
   "source": [
    "arr[0]=9"
   ]
  },
  {
   "cell_type": "code",
   "execution_count": 17,
   "id": "efe1e77b-14a8-4207-8dc9-8afa3b312abf",
   "metadata": {},
   "outputs": [],
   "source": [
    "arr3[0]=10"
   ]
  },
  {
   "cell_type": "code",
   "execution_count": 19,
   "id": "162af5fc-5234-4641-8c23-cf374f073136",
   "metadata": {},
   "outputs": [
    {
     "data": {
      "text/plain": [
       "array([2, 3, 4, 5, 9, 7])"
      ]
     },
     "execution_count": 19,
     "metadata": {},
     "output_type": "execute_result"
    }
   ],
   "source": [
    "arr2"
   ]
  },
  {
   "cell_type": "code",
   "execution_count": 21,
   "id": "dd62351c-573b-47f9-a905-b8ba39ef1a80",
   "metadata": {},
   "outputs": [
    {
     "data": {
      "text/plain": [
       "array([2, 3, 4, 5, 9, 7])"
      ]
     },
     "execution_count": 21,
     "metadata": {},
     "output_type": "execute_result"
    }
   ],
   "source": [
    "arr2"
   ]
  },
  {
   "cell_type": "code",
   "execution_count": 24,
   "id": "ed4f44b4-13f6-4787-88fa-3ee411c03ebe",
   "metadata": {},
   "outputs": [
    {
     "data": {
      "text/plain": [
       "array([[3, 2, 5, 7, 8],\n",
       "       [2, 3, 4, 5, 3]])"
      ]
     },
     "execution_count": 24,
     "metadata": {},
     "output_type": "execute_result"
    }
   ],
   "source": [
    "arr1"
   ]
  },
  {
   "cell_type": "code",
   "execution_count": 25,
   "id": "86802941-f60a-4ae2-816f-aafb6ba7faa6",
   "metadata": {},
   "outputs": [
    {
     "data": {
      "text/plain": [
       "array([3, 2, 5, 7, 8])"
      ]
     },
     "execution_count": 25,
     "metadata": {},
     "output_type": "execute_result"
    }
   ],
   "source": [
    "arr1[0]"
   ]
  },
  {
   "cell_type": "code",
   "execution_count": 26,
   "id": "35d896fc-80ea-4e59-9543-ef67b390e966",
   "metadata": {},
   "outputs": [
    {
     "data": {
      "text/plain": [
       "7"
      ]
     },
     "execution_count": 26,
     "metadata": {},
     "output_type": "execute_result"
    }
   ],
   "source": [
    "arr1[0,3]"
   ]
  }
 ],
 "metadata": {
  "kernelspec": {
   "display_name": "Python 3 (ipykernel)",
   "language": "python",
   "name": "python3"
  },
  "language_info": {
   "codemirror_mode": {
    "name": "ipython",
    "version": 3
   },
   "file_extension": ".py",
   "mimetype": "text/x-python",
   "name": "python",
   "nbconvert_exporter": "python",
   "pygments_lexer": "ipython3",
   "version": "3.11.3"
  }
 },
 "nbformat": 4,
 "nbformat_minor": 5
}
