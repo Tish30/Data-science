{
 "cells": [
  {
   "cell_type": "code",
   "execution_count": 2,
   "id": "7b07383f-dcef-4be5-a5aa-a39f2f53755f",
   "metadata": {},
   "outputs": [],
   "source": [
    "import numpy as np"
   ]
  },
  {
   "cell_type": "code",
   "execution_count": 3,
   "id": "494d0180-b21c-4e1c-9686-6e8e224d1616",
   "metadata": {},
   "outputs": [],
   "source": [
    "arr=np.arange(1000000)"
   ]
  },
  {
   "cell_type": "code",
   "execution_count": 4,
   "id": "de116079-b81d-4a18-ac26-8c02cc327549",
   "metadata": {},
   "outputs": [],
   "source": [
    "pythlist=list(range(1000000))"
   ]
  },
  {
   "cell_type": "code",
   "execution_count": 6,
   "id": "24f9a7f4-102c-42e4-a5f2-54a0e38a9b5c",
   "metadata": {},
   "outputs": [
    {
     "name": "stdout",
     "output_type": "stream",
     "text": [
      "CPU times: total: 578 ms\n",
      "Wall time: 1.26 s\n"
     ]
    }
   ],
   "source": [
    "%time for _ in range(10): [item *3 for item in pythlist]"
   ]
  },
  {
   "cell_type": "code",
   "execution_count": 7,
   "id": "96853523-97cb-400c-ae10-77e39f1cc8bc",
   "metadata": {},
   "outputs": [
    {
     "name": "stdout",
     "output_type": "stream",
     "text": [
      "CPU times: total: 15.6 ms\n",
      "Wall time: 28.1 ms\n"
     ]
    }
   ],
   "source": [
    "%time for _ in range(10):arr=arr*3"
   ]
  },
  {
   "cell_type": "code",
   "execution_count": 9,
   "id": "05938f21-1be8-4cb2-b57e-5f4c82342930",
   "metadata": {},
   "outputs": [
    {
     "data": {
      "text/plain": [
       "array([3, 5, 6])"
      ]
     },
     "execution_count": 9,
     "metadata": {},
     "output_type": "execute_result"
    }
   ],
   "source": [
    "np.array([3,5,6])"
   ]
  }
 ],
 "metadata": {
  "kernelspec": {
   "display_name": "Python 3 (ipykernel)",
   "language": "python",
   "name": "python3"
  },
  "language_info": {
   "codemirror_mode": {
    "name": "ipython",
    "version": 3
   },
   "file_extension": ".py",
   "mimetype": "text/x-python",
   "name": "python",
   "nbconvert_exporter": "python",
   "pygments_lexer": "ipython3",
   "version": "3.11.3"
  }
 },
 "nbformat": 4,
 "nbformat_minor": 5
}
